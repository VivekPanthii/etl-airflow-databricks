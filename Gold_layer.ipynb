{
 "cells": [
  {
   "cell_type": "code",
   "execution_count": 0,
   "metadata": {
    "application/vnd.databricks.v1+cell": {
     "cellMetadata": {
      "byteLimit": 2048000,
      "rowLimit": 10000
     },
     "inputWidgets": {},
     "nuid": "a7a2c5d7-5a3b-493c-a8d0-79840b5764b4",
     "showTitle": false,
     "tableResultSettingsMap": {},
     "title": ""
    }
   },
   "outputs": [],
   "source": [
    "from pyspark.sql.window import *\n",
    "from pyspark.sql.functions import *\n",
    "from delta.tables import DeltaTable \n",
    "from pyspark.sql.utils import AnalysisException"
   ]
  },
  {
   "cell_type": "code",
   "execution_count": 0,
   "metadata": {
    "application/vnd.databricks.v1+cell": {
     "cellMetadata": {
      "byteLimit": 2048000,
      "rowLimit": 10000
     },
     "inputWidgets": {},
     "nuid": "abde6276-1d47-4706-a0c7-f9a918a7cfe0",
     "showTitle": false,
     "tableResultSettingsMap": {},
     "title": ""
    }
   },
   "outputs": [],
   "source": [
    "snowflake_options = {\n",
    "    \"sfURL\": dbutils.secrets.get(scope=\"my_scope\", key=\"sfURL\"),\n",
    "    \"sfUser\": dbutils.secrets.get(scope=\"my_scope\", key=\"sfUser\"),\n",
    "    \"sfPassword\": dbutils.secrets.get(scope=\"my_scope\", key=\"sfPassword\"),\n",
    "    \"sfDatabase\": \"sales_report_db\",\n",
    "    \"sfSchema\": \"my_schemma\",\n",
    "    \"sfWarehouse\": \"etl_wh\",\n",
    "    \"sfRole\": \"data_engineer_role\",\n",
    "}\n"
   ]
  },
  {
   "cell_type": "code",
   "execution_count": 0,
   "metadata": {
    "application/vnd.databricks.v1+cell": {
     "cellMetadata": {
      "byteLimit": 2048000,
      "rowLimit": 10000
     },
     "inputWidgets": {},
     "nuid": "25b04c20-ad1b-41df-b8d0-31e07d33d510",
     "showTitle": false,
     "tableResultSettingsMap": {},
     "title": ""
    }
   },
   "outputs": [],
   "source": [
    "df_cust_info=spark.read.table(\"workspace.silver_crm_erp.cust_info\")\n",
    "df_cust_az12=spark.read.table(\"workspace.silver_crm_erp.cust_az12\")\n",
    "df_loc_a101=spark.read.table(\"workspace.silver_crm_erp.loc_a101\")\n",
    "df_px_cat_g1v2=spark.read.table(\"workspace.silver_crm_erp.px_cat_g1v2\")\n",
    "df_prd_info=spark.read.table(\"workspace.silver_crm_erp.prd_info\")\n",
    "df_sales_details=spark.read.table(\"workspace.silver_crm_erp.sales_details\")"
   ]
  },
  {
   "cell_type": "markdown",
   "metadata": {
    "application/vnd.databricks.v1+cell": {
     "cellMetadata": {},
     "inputWidgets": {},
     "nuid": "93d1058a-4047-4f30-bfe4-ea0b8c97d15e",
     "showTitle": false,
     "tableResultSettingsMap": {},
     "title": ""
    }
   },
   "source": [
    "##### **CREATE DIM_CUSTOMERS**"
   ]
  },
  {
   "cell_type": "code",
   "execution_count": 0,
   "metadata": {
    "application/vnd.databricks.v1+cell": {
     "cellMetadata": {
      "byteLimit": 2048000,
      "rowLimit": 10000
     },
     "inputWidgets": {},
     "nuid": "1b597d3b-bdef-460c-b1d6-b70afe6367d6",
     "showTitle": false,
     "tableResultSettingsMap": {},
     "title": ""
    }
   },
   "outputs": [],
   "source": [
    "table_name=\"workspace.gold_crm_erp.dim_customers\"\n",
    "# Join silver tables using left joins on cst_key and cid\n",
    "joined_df = df_cust_info.alias(\"ci\") \\\n",
    "    .join(df_cust_az12.alias(\"ca\"), col(\"ci.cst_key\") == col(\"ca.cid\"), \"left\") \\\n",
    "    .join(df_loc_a101.alias(\"la\"), col(\"ci.cst_key\") == col(\"la.cid\"), \"left\")\\\n",
    "        \n",
    "window_distinct=Window.partitionBy(\"ci.cst_id\").orderBy(\"ci.cst_id\")\n",
    "df_with_rownum=joined_df.withColumn(\"row_num\", row_number().over(window_distinct))\n",
    "latest_raw_df=df_with_rownum.filter(col(\"row_num\") == 1)\n",
    "# Define window spec for row_number ordered by cst_id\n",
    "window_spec = Window.orderBy(\"ci.cst_id\")\n",
    "\n",
    "# Select and transform columns according to SQL logic\n",
    "dim_customers_df = latest_raw_df.select(\n",
    "    row_number().over(window_spec).alias(\"customer_sk\"),\n",
    "    col(\"ci.cst_id\").alias(\"customer_id\"),\n",
    "    col(\"ci.cst_key\").alias(\"customer_number\"),\n",
    "    col(\"ci.cst_firstname\").alias(\"first_name\"),\n",
    "    col(\"ci.cst_lastname\").alias(\"last_name\"),\n",
    "    col(\"la.cntry\").alias(\"country\"),\n",
    "    col(\"ci.cst_marital_status\").alias(\"marital_status\"),\n",
    "    when(col(\"ci.cst_gndr\") != 'Unknown', col(\"ci.cst_gndr\"))\n",
    "        .otherwise(coalesce(col(\"ca.gen\"), lit('Unknown'))).alias(\"gender\"),\n",
    "    col(\"ca.bdate\").alias(\"birth_date\"),\n",
    "    col(\"ci.cst_create_date\").alias(\"created_date\")\n",
    ")\n",
    "try:\n",
    "    delta_table = DeltaTable.forName(spark, table_name)\n",
    "    \n",
    "    print(\"Table exists, performing merge...\")\n",
    "    # Merge (upsert)\n",
    "    delta_table.alias(\"target\").merge(\n",
    "        dim_customers_df.alias(\"source\"),\n",
    "        \"target.customer_id = source.customer_id\"\n",
    "    ).whenMatchedUpdateAll() \\\n",
    "     .whenNotMatchedInsertAll() \\\n",
    "     .execute()\n",
    "    print(\"Merge completed.\")\n",
    "except AnalysisException:\n",
    "    print(\"Table does not exist, creating new Delta table...\")\n",
    "    dim_customers_df.write.format(\"delta\") \\\n",
    "        .mode(\"overwrite\") \\\n",
    "        .option(\"overwriteSchema\", \"true\") \\\n",
    "        .saveAsTable(table_name)\n",
    "    print(\"Table created.\")\n",
    "\n"
   ]
  },
  {
   "cell_type": "markdown",
   "metadata": {
    "application/vnd.databricks.v1+cell": {
     "cellMetadata": {},
     "inputWidgets": {},
     "nuid": "298dea50-d8df-4415-b2fd-a2e7ce31389f",
     "showTitle": false,
     "tableResultSettingsMap": {},
     "title": ""
    }
   },
   "source": [
    "##### **DIM_PRODUCTS**"
   ]
  },
  {
   "cell_type": "code",
   "execution_count": 0,
   "metadata": {
    "application/vnd.databricks.v1+cell": {
     "cellMetadata": {
      "byteLimit": 2048000,
      "rowLimit": 10000
     },
     "inputWidgets": {},
     "nuid": "2edb129a-6680-4c38-be7d-c6fc01e2da49",
     "showTitle": false,
     "tableResultSettingsMap": {},
     "title": ""
    }
   },
   "outputs": [],
   "source": [
    "# Define window spec for row_number ordering\n",
    "window_spec = Window.orderBy(col(\"prd_start_dt\"), col(\"prd_key\"))\n",
    "\n",
    "table_name=\"workspace.gold_crm_erp.dim_products\"\n",
    "# Join, filter, select, and add row_number as surrogate product_key\n",
    "df_product_dim = (\n",
    "    df_prd_info.alias(\"pn\")\n",
    "    .join(df_px_cat_g1v2.alias(\"pc\"), col(\"pn.cat_id\") == col(\"pc.id\"), how=\"left\")\n",
    "    \n",
    "    .select(\n",
    "        row_number().over(window_spec).alias(\"product_sk\"),\n",
    "        col(\"pn.prd_id\").alias(\"product_id\"),\n",
    "        col(\"pn.prd_key\").alias(\"product_number\"),\n",
    "        col(\"pn.prd_nm\").alias(\"product_name\"),\n",
    "        col(\"pn.cat_id\").alias(\"category_id\"),\n",
    "        col(\"pc.cat\").alias(\"category\"),\n",
    "        col(\"pc.subcat\").alias(\"subcategory\"),\n",
    "        col(\"pc.maintenance\"),\n",
    "        col(\"pn.prd_cost\").alias(\"cost\"),\n",
    "        col(\"pn.prd_line\").alias(\"product_line\"),\n",
    "        col(\"pn.prd_start_dt\").alias(\"start_date\")\n",
    "    )\n",
    ")\n",
    "\n",
    "try:\n",
    "    delta_table=DeltaTable.forName(spark,table_name)\n",
    "    print(\"Table Exists, Perfoming Merge....\")\n",
    "    delta_table.alias(\"target\").merge(\n",
    "        df_product_dim.alias(\"source\"),\n",
    "        \"target.prd_id = source.product_id\"\n",
    "    ).whenMatchedUpdateAll() \\\n",
    "     .whenNotMatchedInsertAll() \\\n",
    "     .execute()\n",
    "    print(\"Merge Completed.\")\n",
    "except AnalysisException as e:\n",
    "    print(\"Table does not exist, creating new Delta table...\")\n",
    "    df_product_dim.write.format(\"delta\") \\\n",
    "        .mode(\"overwrite\") \\\n",
    "        .option(\"overwriteSchema\", \"true\") \\\n",
    "        .saveAsTable(table_name)\n"
   ]
  },
  {
   "cell_type": "markdown",
   "metadata": {
    "application/vnd.databricks.v1+cell": {
     "cellMetadata": {},
     "inputWidgets": {},
     "nuid": "e3ca08a1-de78-4442-b819-50b3f550c873",
     "showTitle": false,
     "tableResultSettingsMap": {},
     "title": ""
    }
   },
   "source": [
    "##### **FACT_SALES_DETAILS**"
   ]
  },
  {
   "cell_type": "code",
   "execution_count": 0,
   "metadata": {
    "application/vnd.databricks.v1+cell": {
     "cellMetadata": {
      "byteLimit": 2048000,
      "rowLimit": 10000
     },
     "inputWidgets": {},
     "nuid": "4b03f420-069a-4ddc-906d-a13333c8a1b1",
     "showTitle": false,
     "tableResultSettingsMap": {},
     "title": ""
    }
   },
   "outputs": [],
   "source": [
    "\n",
    "table_name=\"workspace.gold_crm_erp.fact_sales\"\n",
    "# Join sales_details with dim_products on product key and dim_customers on customer id\n",
    "df_fact_sales = (\n",
    "    df_sales_details.alias(\"sd\")\n",
    "    .join(df_product_dim.alias(\"pr\"), col(\"sd.sls_prd_key\") == col(\"pr.product_number\"), \"left\")\n",
    "    .join(dim_customers_df.alias(\"cr\"), col(\"sd.sls_cust_id\") == col(\"cr.customer_id\"), \"left\")\n",
    "    .select(\n",
    "        col(\"sd.sls_ord_num\").alias(\"order_number\"),\n",
    "        col(\"pr.product_sk\"),\n",
    "        col(\"cr.customer_sk\"),\n",
    "        col(\"sd.sls_order_dt\").alias(\"order_date\"),\n",
    "        col(\"sd.sls_ship_dt\").alias(\"ship_date\"),\n",
    "        col(\"sd.sls_due_dt\").alias(\"due_date\"),\n",
    "        col(\"sd.sls_sales\").alias(\"sales\"),\n",
    "        col(\"sd.sls_quantity\").alias(\"quantity\"),\n",
    "        col(\"sd.sls_price\").alias(\"price\")\n",
    "    )\n",
    ")\n",
    "try:\n",
    "    delta_table=DeltaTable.forName(spark,table_name)\n",
    "    print(\"Table Exists, Perfoming Merge....\")\n",
    "    delta_table.alias(\"target\").merge(\n",
    "        df_product_dim.alias(\"source\"),\n",
    "        \"target.order_number = source.order_number\"\n",
    "    ).whenMatchedUpdateAll() \\\n",
    "     .whenNotMatchedInsertAll() \\\n",
    "     .execute()\n",
    "    print(\"Merge Completed.\")\n",
    "except AnalysisException as e:\n",
    "    print(\"Table does not exist, creating new Delta table...\")\n",
    "    df_product_dim.write.format(\"delta\") \\\n",
    "        .mode(\"overwrite\") \\\n",
    "        .option(\"overwriteSchema\", \"true\") \\\n",
    "        .saveAsTable(table_name)\n"
   ]
  }
 ],
 "metadata": {
  "application/vnd.databricks.v1+notebook": {
   "computePreferences": {
    "hardware": {
     "accelerator": null,
     "gpuPoolId": null,
     "memory": null
    }
   },
   "dashboards": [],
   "environmentMetadata": {
    "base_environment": "",
    "environment_version": "2"
   },
   "inputWidgetPreferences": null,
   "language": "python",
   "notebookMetadata": {
    "mostRecentlyExecutedCommandWithImplicitDF": {
     "commandId": 6191568457726375,
     "dataframes": [
      "_sqldf"
     ]
    },
    "pythonIndentUnit": 4
   },
   "notebookName": "Gold_layer",
   "widgets": {}
  },
  "language_info": {
   "name": "python"
  }
 },
 "nbformat": 4,
 "nbformat_minor": 0
}
